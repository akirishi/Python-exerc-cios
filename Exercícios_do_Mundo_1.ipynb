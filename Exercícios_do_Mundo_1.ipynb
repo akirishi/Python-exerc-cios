{
  "nbformat": 4,
  "nbformat_minor": 0,
  "metadata": {
    "colab": {
      "name": "Exercícios do Mundo 1.ipynb",
      "provenance": [],
      "authorship_tag": "ABX9TyNkDnzahan1uyejLnPNNGc8",
      "include_colab_link": true
    },
    "kernelspec": {
      "name": "python3",
      "display_name": "Python 3"
    },
    "language_info": {
      "name": "python"
    }
  },
  "cells": [
    {
      "cell_type": "markdown",
      "metadata": {
        "id": "view-in-github",
        "colab_type": "text"
      },
      "source": [
        "<a href=\"https://colab.research.google.com/github/akirishi/Python-exerc-cios/blob/master/Exerc%C3%ADcios_do_Mundo_1.ipynb\" target=\"_parent\"><img src=\"https://colab.research.google.com/assets/colab-badge.svg\" alt=\"Open In Colab\"/></a>"
      ]
    },
    {
      "cell_type": "code",
      "source": [
        "# !pip install pygame\n",
        "from math import sqrt, trunc, hypot, sin, cos, tan, radians\n",
        "from time import sleep\n",
        "from random import randrange, randint, choice, shuffle\n",
        "import pygame\n",
        "from datetime import date"
      ],
      "metadata": {
        "id": "ADGBPyLXdmAa"
      },
      "execution_count": 70,
      "outputs": []
    },
    {
      "cell_type": "markdown",
      "source": [
        "### EX001 - Deixando tudo pronto\n",
        "\n",
        "Crie um programa que escreva \"Olá, Mundo!\" na tela."
      ],
      "metadata": {
        "id": "4UdEvllFa8qV"
      }
    },
    {
      "cell_type": "code",
      "source": [
        "print(f'{\"Olá, Mundo!\":=^21}')"
      ],
      "metadata": {
        "colab": {
          "base_uri": "https://localhost:8080/"
        },
        "id": "y44atub3bCre",
        "outputId": "a19663d4-65e1-40bd-81b8-d096212d0544"
      },
      "execution_count": 7,
      "outputs": [
        {
          "output_type": "stream",
          "name": "stdout",
          "text": [
            "=====Olá, Mundo!=====\n"
          ]
        }
      ]
    },
    {
      "cell_type": "markdown",
      "source": [
        "### EX002 - Respondendo ao usuário\n",
        "\n",
        "Faça um programa que leia o nome de uma pessoa e mostre uma menssagem de boas-vindas."
      ],
      "metadata": {
        "id": "KrUg-6debJha"
      }
    },
    {
      "cell_type": "code",
      "source": [
        "print(f'{\"Boas vindas\":=^30}')\n",
        "nome = str(input('Digite seu nome: '))\n",
        "print(f'Prazer em te conhecer {nome.capitalize()}!')"
      ],
      "metadata": {
        "id": "df8-SpwJbSEp"
      },
      "execution_count": null,
      "outputs": []
    },
    {
      "cell_type": "markdown",
      "source": [
        "### EX003 - Somando dois números\n",
        "\n",
        "Crie um programa que leia dois númeos e mostre a soma entre eles.\n"
      ],
      "metadata": {
        "id": "aLvOVFgsb1Mr"
      }
    },
    {
      "cell_type": "code",
      "execution_count": 5,
      "metadata": {
        "colab": {
          "base_uri": "https://localhost:8080/"
        },
        "id": "LvJxdPWZaWIs",
        "outputId": "08356676-f181-4cd7-ec8d-ee717d5cf818"
      },
      "outputs": [
        {
          "output_type": "stream",
          "name": "stdout",
          "text": [
            "========Soma========\n",
            "Quantos números vão ser somados?: 4\n",
            "Digite o 1º número: 1\n",
            "Digite o 2º número: 2\n",
            "Digite o 3º número: 3\n",
            "Digite o 4º número: 4\n",
            "A soma é igual a 10.00\n"
          ]
        }
      ],
      "source": [
        "print(f'{\"Soma\":=^20}')\n",
        "qtd = int(input('Quantos números vão ser somados?: '))\n",
        "soma = 0\n",
        "for n in range(0, qtd):\n",
        "    num = float(input(f'Digite o {n + 1}º número: '))\n",
        "    soma += num\n",
        "print(f'A soma é igual a {soma:.2f}')"
      ]
    },
    {
      "cell_type": "markdown",
      "source": [
        "### EX004 - Dissecando uma variável\n",
        "\n",
        "Faça um programa que leia algo pelo teclado e mostre na tela o seu tipo primitivo e todas as informações possíveis sobre ele."
      ],
      "metadata": {
        "id": "AxaYWM0DcJtm"
      }
    },
    {
      "cell_type": "code",
      "source": [
        "print('informações')\n",
        "x = input('Digite algo: ')\n",
        "print(f'o tipo primitivo de {x} é:', type(x),'\\n'\n",
        "      f'{x} é um número?:', x.isnumeric(),'\\n'\n",
        "      f'{x} é uma letra ou palavra?:', x.isalpha(),'\\n'\n",
        "      f'{x} Só tem espaços?:', x.isspace(),'\\n'\n",
        "      f'{x} Esta em maiúsculas?:', x.isupper(),'\\n'\n",
        "      f'{x} Esta em minúscula?:', x.islower(),'\\n'\n",
        "      f'{x} Esta capitalizada?:', x.istitle())"
      ],
      "metadata": {
        "id": "ikAXg4AQcZWE"
      },
      "execution_count": null,
      "outputs": []
    },
    {
      "cell_type": "markdown",
      "source": [
        "### EX005 - Antecessor e sucessor\n",
        "\n",
        "Faça um programa que leia um número inteiro e mostre na tela o seu antecessor e seu sucessor."
      ],
      "metadata": {
        "id": "9WiMRVpKcY8q"
      }
    },
    {
      "cell_type": "code",
      "source": [
        "print('Antecessor e sucessor')\n",
        "num = int(input('Número: '))\n",
        "antecessor = num - 1\n",
        "sucessor = num + 1\n",
        "print(f'O antecessor de {num} é {antecessor} e seu sucessor é {sucessor}')"
      ],
      "metadata": {
        "colab": {
          "base_uri": "https://localhost:8080/"
        },
        "id": "OElisHokdA3V",
        "outputId": "cb3b763e-f703-47be-815c-6770c5dfbb6c"
      },
      "execution_count": 17,
      "outputs": [
        {
          "output_type": "stream",
          "name": "stdout",
          "text": [
            "Antecessor e sucessor\n",
            "Número: 0\n",
            "O antecessor de 0 é -1 e seu sucessor é 1\n"
          ]
        }
      ]
    },
    {
      "cell_type": "markdown",
      "source": [
        "### EX006 - Dobro, Triplo e Raiz\n",
        "\n",
        "Crie em algoritmo que leia um número e mostre seu dobro, triplo e raiz quadrada."
      ],
      "metadata": {
        "id": "_iVbztqKdXIu"
      }
    },
    {
      "cell_type": "code",
      "source": [
        "print('Dobro, Triplo e Raiz')\n",
        "x = float(input('Número: '))\n",
        "x2 = x * 2\n",
        "x3 = x * 3\n",
        "xr = sqrt(x)\n",
        "print(f'O dobro de {x:.2f} é {x2:.2f}\\n'\n",
        "      f'O triplo é {x3:.2f}\\n'\n",
        "      f'E a raíz quadrada é {xr:.2f}')"
      ],
      "metadata": {
        "colab": {
          "base_uri": "https://localhost:8080/"
        },
        "id": "N6OkDwWqdipx",
        "outputId": "c842d035-f0e3-4a92-8d4a-35dc7392ef71"
      },
      "execution_count": 21,
      "outputs": [
        {
          "output_type": "stream",
          "name": "stdout",
          "text": [
            "Dobro, Triplo e Raiz\n",
            "Número: 6\n",
            "O dobro de 6.00 é 12.00\n",
            "O triplo é 18.00\n",
            "E a raíz quadrada é 2.45\n"
          ]
        }
      ]
    },
    {
      "cell_type": "markdown",
      "source": [
        "### EX007 - Média aritmética\n",
        "\n",
        "Desenvolva um programa que leia as notas de um aluno, calcule e mostre sua média."
      ],
      "metadata": {
        "id": "Gs1MTUm2d7RG"
      }
    },
    {
      "cell_type": "code",
      "source": [
        "print('Calculo da média do aluno')\n",
        "nome = str(input('Digite o nome do aluno: '))\n",
        "media = 0\n",
        "count = 1\n",
        "while not count == 4:\n",
        "    nota = float(input(f'Nota {count}: '))\n",
        "    media += nota\n",
        "    count += 1\n",
        "print(f'Média Final: {media / 3:.1f}')\n",
        "print(f'Aluno {nome}, REPROVADO.' if (media / 3) < 6 else f'Aluno {nome} APROVADO, PARABÉNS!')"
      ],
      "metadata": {
        "colab": {
          "base_uri": "https://localhost:8080/"
        },
        "id": "VU2YJOZ6eDhZ",
        "outputId": "84a296e8-7268-4d2f-c8a0-fa5e90afedb3"
      },
      "execution_count": 24,
      "outputs": [
        {
          "output_type": "stream",
          "name": "stdout",
          "text": [
            "Calculo da média do aluno\n",
            "Digite o nome do aluno: Fabiano\n",
            "Nota 1: 3\n",
            "Nota 2: 4\n",
            "Nota 3: 5\n",
            "Média Final: 4.0\n",
            "Aluno Fabiano, REPROVADO\n"
          ]
        }
      ]
    },
    {
      "cell_type": "markdown",
      "source": [
        "### EX008 - Conversor de medidas\n",
        "\n",
        "Escreva um programa que leia um valor em metros e o exiba convertendo em centímetros e milimitros."
      ],
      "metadata": {
        "id": "MUgdJrije28m"
      }
    },
    {
      "cell_type": "code",
      "source": [
        "print('Conversor de comprimento')\n",
        "m = float(input('Valor em metros: '))\n",
        "km = m / 1000\n",
        "hm = m / 100\n",
        "dam = m / 10\n",
        "dm = m * 10\n",
        "cm = m * 100\n",
        "mm = m * 1000\n",
        "x = float(input('Digite\\n'\n",
        "                '[1] para Km\\n'\n",
        "                '[2] para Hm\\n'\n",
        "                '[3] para Dam\\n'\n",
        "                '[4] para dm\\n'\n",
        "                '[5] para cm\\n'\n",
        "                '[6] para mm\\n'\n",
        "                '>'))\n",
        "if x == 1:\n",
        "    print(f'{m}m são {km}Km')\n",
        "elif x == 2:\n",
        "    print(f'{m}m são {hm}Hm')\n",
        "elif x == 3:\n",
        "    print(f'{m}m são {dam}Dam')\n",
        "elif x == 4:\n",
        "    print(f'{m}m são {dm}dm')\n",
        "elif x == 5:\n",
        "    print(f'{m}m são {cm}cm')\n",
        "elif x == 6:\n",
        "    print(f'{m}m são {mm}mm')\n",
        "else:\n",
        "  print('Opção inválida! Tente novamente')"
      ],
      "metadata": {
        "colab": {
          "base_uri": "https://localhost:8080/"
        },
        "id": "mUFxR5M1e2a2",
        "outputId": "fbb2cee5-595d-4f3c-ab45-d1d818e398a4"
      },
      "execution_count": 27,
      "outputs": [
        {
          "output_type": "stream",
          "name": "stdout",
          "text": [
            "Conversor de comprimento\n",
            "Valor em metros: 76\n",
            "Digite\n",
            "[1] para Km\n",
            "[2] para Hm\n",
            "[3] para Dam\n",
            "[4] para dm\n",
            "[5] para cm\n",
            "[6] para mm\n",
            ">4\n",
            "76.0m são 760.0dm\n"
          ]
        }
      ]
    },
    {
      "cell_type": "markdown",
      "source": [
        "### EX009 - Tabuada v1.0\n",
        "\n",
        "Escreva um programa que leia um número qualquer e mostre na tela a sua tabuada."
      ],
      "metadata": {
        "id": "tUHlYSuqfejy"
      }
    },
    {
      "cell_type": "code",
      "source": [
        "print('Tabuada')\n",
        "x = int(input('Número: '))\n",
        "\n",
        "print(f'{x} X {1:2} = {x * 1}\\n'\n",
        "      f'{x} X {2:2} = {x * 2}\\n'\n",
        "      f'{x} X {3:2} = {x * 3}\\n'\n",
        "      f'{x} X {4:2} = {x * 4}\\n'\n",
        "      f'{x} X {5:2} = {x * 5}\\n'\n",
        "      f'{x} X {6:2} = {x * 6}\\n'\n",
        "      f'{x} X {7:2} = {x * 7}\\n'\n",
        "      f'{x} X {8:2} = {x * 8}\\n'\n",
        "      f'{x} X {9:2} = {x * 9}\\n'\n",
        "      f'{x} X {10:2} = {x * 10}')"
      ],
      "metadata": {
        "colab": {
          "base_uri": "https://localhost:8080/"
        },
        "id": "lQxtxTgBfma-",
        "outputId": "83ad0dd8-9cd4-4e20-a902-21dc0c19ec37"
      },
      "execution_count": 29,
      "outputs": [
        {
          "output_type": "stream",
          "name": "stdout",
          "text": [
            "Tabuada\n",
            "Número: 7\n",
            "7 X  1 = 7\n",
            "7 X  2 = 14\n",
            "7 X  3 = 21\n",
            "7 X  4 = 28\n",
            "7 X  5 = 35\n",
            "7 X  6 = 42\n",
            "7 X  7 = 49\n",
            "7 X  8 = 56\n",
            "7 X  9 = 63\n",
            "7 X 10 = 70\n"
          ]
        }
      ]
    },
    {
      "cell_type": "markdown",
      "source": [
        "### EX010 - Conversor de moedas\n",
        "\n",
        "Crie um programa que leia quanto dinheiro uma pessoa tem na carteira e mostre quantos dólares ela pode comprar."
      ],
      "metadata": {
        "id": "W7h1ez_Xf0nc"
      }
    },
    {
      "cell_type": "code",
      "source": [
        "print('Conversão de moeda')\n",
        "brl = float(input('Qunatos reais você tem? R$: '))\n",
        "dol = brl / 5.51\n",
        "eur = brl / 6.57\n",
        "lbr = brl / 7.62\n",
        "ien = brl / 0.051\n",
        "doa = brl / 0.24\n",
        "x = int(input('Digite\\n'\n",
        "              '[1] para ($) Dólar\\n'\n",
        "              '[2] para (€) Euro\\n'\n",
        "              '[3] para (£) Libra Esterlina\\n'\n",
        "              '[4] para (¥) Iene\\n'\n",
        "              '[5] para (A$) Dólar Australiano\\n'\n",
        "              '>'))\n",
        "\n",
        "print('=-' * 20)\n",
        "print('Calculando...')\n",
        "print('=-' * 20)\n",
        "sleep(2)\n",
        "\n",
        "if x == 1:\n",
        "    print(f'R${brl:.2f} equivalem a ${dol:.2f}'.replace('.', ','))\n",
        "elif x == 2:\n",
        "    print(f'R${brl:.2f} equivalem a €{eur:.2f}'.replace('.', ','))\n",
        "elif x == 3:\n",
        "    print(f'R${brl:.2f} equivale a £{lbr:.2f}'.replace('.', ','))\n",
        "elif x == 4:\n",
        "    print(f'R${brl:.2f} equivale a ¥{ien:.2f}'.replace('.', ','))\n",
        "elif x == 5:\n",
        "    print(f'R${brl:.2f} equivale a A${doa:.2f}'.replace('.', ','))\n",
        "else:\n",
        "    print(f'Opcão inválida! tente novamente')"
      ],
      "metadata": {
        "colab": {
          "base_uri": "https://localhost:8080/"
        },
        "id": "EKlAHNvgf_c0",
        "outputId": "1d4af813-e6f6-4426-cc71-4889a33ed1f8"
      },
      "execution_count": 32,
      "outputs": [
        {
          "output_type": "stream",
          "name": "stdout",
          "text": [
            "Conversão de moeda\n",
            "Qunatos reais você tem? R$: 8759\n",
            "Digite\n",
            "[1] para ($) Dólar\n",
            "[2] para (€) Euro\n",
            "[3] para (£) Libra Esterlina\n",
            "[4] para (¥) Iene\n",
            "[5] para (A$) Dólar Australiano\n",
            ">1\n",
            "=-=-=-=-=-=-=-=-=-=-=-=-=-=-=-=-=-=-=-=-\n",
            "Calculando...\n",
            "=-=-=-=-=-=-=-=-=-=-=-=-=-=-=-=-=-=-=-=-\n",
            "R$8759,00 equivalem a $1589,66\n"
          ]
        }
      ]
    },
    {
      "cell_type": "markdown",
      "source": [
        "### EX011 - Pintando parede\n",
        "\n",
        "Faça um programa que leia a largura e a altura de uma parede em metros, calcule a sua área e a quantidade de tinta nescessária para pintá-la, sabendo que cada litro de tinta pinta uma área de 2 metros quadrados."
      ],
      "metadata": {
        "id": "vICOZuBhgiJa"
      }
    },
    {
      "cell_type": "code",
      "source": [
        "print('Pintando sua parede!')\n",
        "altura = float(input('Altura da parede: '))\n",
        "largura = float(input('Largura da parede: '))\n",
        "area = altura * largura\n",
        "print(f'Para pintar a parede de {area}m² sera necessário {area / 2}L de tinta'.replace('.', ','))"
      ],
      "metadata": {
        "colab": {
          "base_uri": "https://localhost:8080/"
        },
        "id": "OWGKvfAdgq-f",
        "outputId": "26e819f5-e9e7-4065-86c6-e9a23eeeca7d"
      },
      "execution_count": 34,
      "outputs": [
        {
          "output_type": "stream",
          "name": "stdout",
          "text": [
            "Pintando sua parede!\n",
            "Altura da parede: 3\n",
            "Largura da parede: 9\n",
            "Para pintar a parede de 27,0m² sera necessário 13,5L de tinta\n"
          ]
        }
      ]
    },
    {
      "cell_type": "markdown",
      "source": [
        "### EX012 - Calculando descontos\n",
        "\n",
        "Faça um programa que leia o preço de um produto e mostre seu novo preço, com 5% de desconto."
      ],
      "metadata": {
        "id": "ke6J2ogEhLqd"
      }
    },
    {
      "cell_type": "code",
      "source": [
        "print('Desconto!!')\n",
        "valor = float(input('Valor do Produto:R$ '))\n",
        "desc = valor - (valor * 5 / 100)\n",
        "print(f'Valor final:{desc:.2f}')"
      ],
      "metadata": {
        "colab": {
          "base_uri": "https://localhost:8080/"
        },
        "id": "Hv404OQIhVvE",
        "outputId": "f7512152-cff1-484b-9ea7-6daf69917819"
      },
      "execution_count": 35,
      "outputs": [
        {
          "output_type": "stream",
          "name": "stdout",
          "text": [
            "Desconto!!\n",
            "Valor do Produto:R$ 200\n",
            "Valor final:190.00\n"
          ]
        }
      ]
    },
    {
      "cell_type": "markdown",
      "source": [
        "### EX013 - Reajuste salarial\n",
        "\n",
        "Faça um algoritmo que leia o salário de um funcionario e mostre seu novo salário, com 15% de aumento."
      ],
      "metadata": {
        "id": "RVB2KuuYhjko"
      }
    },
    {
      "cell_type": "code",
      "source": [
        "print('Aumento de salário')\n",
        "salario = float(input('Salário atual: '))\n",
        "reajuste = salario * 0.15\n",
        "print(f'O salário {salario} mais 15% de bonus é igual a {salario + reajuste}')"
      ],
      "metadata": {
        "colab": {
          "base_uri": "https://localhost:8080/"
        },
        "id": "Wvfl8Q_ahrZH",
        "outputId": "5f1de7ed-b290-4bee-c46e-be2f9add9fd6"
      },
      "execution_count": 38,
      "outputs": [
        {
          "output_type": "stream",
          "name": "stdout",
          "text": [
            "Aumento de salário\n",
            "Salário atual: 1500\n",
            "O salário 1500.0 mais 15% de bonus é igual a 1725.0\n"
          ]
        }
      ]
    },
    {
      "cell_type": "markdown",
      "source": [
        "### EX014 - Conversor de temperatura\n",
        "\n"
      ],
      "metadata": {
        "id": "-XWyE7PUiIDf"
      }
    },
    {
      "cell_type": "code",
      "source": [
        "print('-' * 20)\n",
        "print('Conversor de temperatura')\n",
        "print('-' * 20)\n",
        "\n",
        "while True:\n",
        "    while True:\n",
        "        escala = str(input('Qual a escala de tempertura inicial?\\n'\n",
        "                           '[C] - Celsius\\n'\n",
        "                           '[F] - Fahrenheit\\n'\n",
        "                           '[K] - Kelvin\\n'\n",
        "                           '>').strip().upper())\n",
        "        if escala == 'C':\n",
        "            Opt = str(input('Converter Celsius para:\\n'\n",
        "                            '[F] - para (ºF) Fahrenheit\\n'\n",
        "                            '[K] - para (K) Kelvin\\n'\n",
        "                            '>').strip().upper())\n",
        "            break\n",
        "        elif escala == 'F':\n",
        "            Opt = str(input('Converter Fahrenheit para:\\n'\n",
        "                            '[C] - para (ºC) Celsius\\n'\n",
        "                            '[K] - para (K) Kelvin\\n'\n",
        "                            '>').strip().upper())\n",
        "            break\n",
        "        elif escala == 'K':\n",
        "            Opt = str(input('Converter Kelvin para:\\n'\n",
        "                            '[F] - para (ºF) Fahrenheit\\n'\n",
        "                            '[C] - para (C) Celsius\\n'\n",
        "                            '>').strip().upper())\n",
        "            break\n",
        "        else:\n",
        "            print('Opção inválida, tente novamente')\n",
        "\n",
        "    if escala == 'C':\n",
        "        C = float(input('Digite a temperatura em Celsius: '))\n",
        "        if Opt == 'F':\n",
        "            F = (C * 9 / 5) + 32\n",
        "            print(f'{C:.2f} ºC é {F:.2f} ºF')\n",
        "        elif Opt == 'K':\n",
        "            K = C + 273.15\n",
        "            print(f'{C:.2f} ºC é {K:.2f} K')\n",
        "    elif escala == 'F':\n",
        "        F = float(input('Digite a temperatura em Fahrenheits: '))\n",
        "        if Opt == 'C':\n",
        "            C = (F - 32) * 5 / 9\n",
        "            print(f'{F:.2f} ºF é {C:.2f} ºC')\n",
        "        elif Opt == 'K':\n",
        "            K = (F - 32) * 5 / 9 + 273.15\n",
        "            print(f'{F:.2f} ºF é {K:.2f} K')\n",
        "    elif escala == 'K':\n",
        "        K = float(input('Digite a temperatura em Kelvin: '))\n",
        "        if Opt == 'C':\n",
        "            C = K - 273.15\n",
        "            print(f'{K:.2f} K é {C:.2f} ºC')\n",
        "        elif Opt == 'F':\n",
        "            F = (K - 273.15) * 9 / 5 + 32\n",
        "            print(f'{K:.2f} K é {F:.2f} ºF')\n",
        "    else:\n",
        "        print('Opção inválida, tente novamente')\n",
        "    terminou = str(input('Terminou? [S/N] ').strip().upper()[0])\n",
        "    if terminou == 'S':\n",
        "        break\n",
        "\n",
        "print('Fim')\n",
        "print('-' * 20)"
      ],
      "metadata": {
        "id": "W_aTe13OiR4e"
      },
      "execution_count": null,
      "outputs": []
    },
    {
      "cell_type": "markdown",
      "source": [
        "### EX015 - Aluguel de carros\n",
        "\n",
        "Escreva um programa que pergunte a quantidade de Km percorridos por um carro alugado e a quantidade de dias pelos quais ele foi alugado. Calcule o preço a pagar, sabendo que o carro custa R$60 por dia e R$0,15 por Km rodado.\n"
      ],
      "metadata": {
        "id": "-dW71PZiiZFw"
      }
    },
    {
      "cell_type": "code",
      "source": [
        "print('Alugue de carro')\n",
        "\n",
        "dias = int(input('Quantos dias o carro foi alugado?: '))\n",
        "km_rodados = float(input('Quantos Km rodados?: '))\n",
        "total = dias * 60 + km_rodados * 0.15\n",
        "print(f'O total a pagar é R${total:.2f}')"
      ],
      "metadata": {
        "colab": {
          "base_uri": "https://localhost:8080/"
        },
        "id": "Znspaj3iimim",
        "outputId": "e00d7398-b063-4e87-bea3-c578deb1dda2"
      },
      "execution_count": 39,
      "outputs": [
        {
          "output_type": "stream",
          "name": "stdout",
          "text": [
            "Alugue de carro\n",
            "Quantos dias o carro foi alugado?: 5\n",
            "Quantos Km rodados?: 1000\n",
            "O total a pagar é R$450.00\n"
          ]
        }
      ]
    },
    {
      "cell_type": "markdown",
      "source": [
        "### EX016 - Quebrando um número\n",
        "\n",
        "Crie um programa que leia um número Real qualquer pelo teclado e mostre na tela a sua porção inteira."
      ],
      "metadata": {
        "id": "0Bzdc-7KjS54"
      }
    },
    {
      "cell_type": "code",
      "source": [
        "num = float(sqrt(randrange(1, 1000)))\n",
        "print(f'A porção inteira de {num} é {trunc(num)}')"
      ],
      "metadata": {
        "id": "QVuqkeZ2jeTS"
      },
      "execution_count": null,
      "outputs": []
    },
    {
      "cell_type": "markdown",
      "source": [
        "### EX017 - Catetos e Hipotenusa\n",
        "\n",
        "Faça um programa que leia o comprimento do cateto oposto e do cateto adjeacente de um triângulo retângulo. Calcule e mostre o comprimento da hipotenusa."
      ],
      "metadata": {
        "id": "CAMUeV6Sjjoe"
      }
    },
    {
      "cell_type": "code",
      "source": [
        "print('Calculo da Hipotenusa de um triângulo retânguo')\n",
        "\n",
        "cateto_1 = float(input('Digite o cateto oposto: '))\n",
        "cateto_2 = float(input('Digite o cateto adjacente: '))\n",
        "\n",
        "print(f'O valor da hiponenusa é: {hypot(cateto_1, cateto_2):.2f}')"
      ],
      "metadata": {
        "colab": {
          "base_uri": "https://localhost:8080/"
        },
        "id": "ra9clag2jrla",
        "outputId": "e423ecdb-1359-4baa-faa4-b074ac0366e0"
      },
      "execution_count": 42,
      "outputs": [
        {
          "output_type": "stream",
          "name": "stdout",
          "text": [
            "Calculo da Hipotenusa de um triângulo retânguo\n",
            "Digite o cateto oposto: 9\n",
            "Digite o cateto adjacente: 8\n",
            "O valor da hiponenusa é:12.04\n"
          ]
        }
      ]
    },
    {
      "cell_type": "markdown",
      "source": [
        "### EX018 - Seno, cosseno e tangente\n",
        "\n",
        "Faça um programa que leia um ângulo qualquer e mostre na tela o valor do seno, cosseno e tangente desse ângulo."
      ],
      "metadata": {
        "id": "DF5I_niFj_Nz"
      }
    },
    {
      "cell_type": "code",
      "source": [
        "print('Seno, cosseno e tangente')\n",
        "x = float(input('Digite o Ângulo: '))\n",
        "\n",
        "print(f'Analizando o ângulo {x}...')\n",
        "sleep(randrange(1, 3))\n",
        "\n",
        "print(f'O seno é {sin(radians(x)):.2f}\\n'\n",
        "      f'O cosseno é {cos(radians(x)):.2f}\\n'\n",
        "      f'E a tangente é {tan(radians(x)):.2f}')"
      ],
      "metadata": {
        "id": "EtAJHUoMkGQ6"
      },
      "execution_count": null,
      "outputs": []
    },
    {
      "cell_type": "markdown",
      "source": [
        "### EX019 - Sortando um item na lista\n",
        "\n",
        "Um professor quer sortear um dos seus quatro alunos para apagar o quadro. Faça um programa que ajude ele, lendo o nome dos alunos e escrevendo na tela o nome do escolhido."
      ],
      "metadata": {
        "id": "DE7Iyk0QkPPS"
      }
    },
    {
      "cell_type": "code",
      "source": [
        "print('Quem vai apagar o quadro?')\n",
        "a1 = input('Primeiro aluno: ')\n",
        "a2 = input('Segundo aluno: ')\n",
        "a3 = input('Terceiro aluno: ')\n",
        "a4 = input('Quarto aluno: ')\n",
        "x = [a1, a2, a3, a4]\n",
        "print(f'O escolhido foi {choice(x)}')"
      ],
      "metadata": {
        "id": "Y6rq29zVkdz5"
      },
      "execution_count": null,
      "outputs": []
    },
    {
      "cell_type": "code",
      "source": [
        "print('Quem vai apagar o quadro?')\n",
        "alunos = []\n",
        "for x in range(1, 5):\n",
        "  aluno = input(f'{x}º Aluno: ')\n",
        "  alunos.append(aluno)\n",
        "print(alunos)\n",
        "print(f'O escolhido foi {choice(alunos)}')"
      ],
      "metadata": {
        "colab": {
          "base_uri": "https://localhost:8080/"
        },
        "id": "5XPur1HVkj4-",
        "outputId": "2e7252b3-b1e3-4929-d6b5-fc5bbe998aeb"
      },
      "execution_count": 48,
      "outputs": [
        {
          "output_type": "stream",
          "name": "stdout",
          "text": [
            "Quem vai apagar o quadro?\n",
            "1º Aluno: a\n",
            "2º Aluno: b\n",
            "3º Aluno: c\n",
            "4º Aluno: d\n",
            "['a', 'b', 'c', 'd']\n",
            "O escolhido foi c\n"
          ]
        }
      ]
    },
    {
      "cell_type": "markdown",
      "source": [
        "### EX020 - Sorteando uma ordem na lista\n",
        "\n",
        "O mesmo professor do desafio 19 quer sortear a ordem de apresentação de trabalhos dos alunos. Faça um programa que leia o nome dos quatro alunos e mostre a ordem sorteada."
      ],
      "metadata": {
        "id": "5a4c7daLlduX"
      }
    },
    {
      "cell_type": "code",
      "source": [
        "print('Ordem de apresentação')\n",
        "a1 = str(input('Aluno 1: '))\n",
        "a2 = str(input('Aluno 2: '))\n",
        "a3 = str(input('aluno 3: '))\n",
        "a4 = str(input('Aluno 4: '))\n",
        "li = [a1, a2, a3, a4]\n",
        "shuffle(li)\n",
        "print(f'A ordem é {li}')"
      ],
      "metadata": {
        "id": "mXuGhGZPlliA"
      },
      "execution_count": null,
      "outputs": []
    },
    {
      "cell_type": "code",
      "source": [
        "print('Ordem de apresentação')\n",
        "turma = []\n",
        "for x in range(1, 5):\n",
        "  aluno = input(f'{x}º Aluno: ')\n",
        "  turma.append(aluno)\n",
        "shuffle(turma)\n",
        "print(f'A ordem é {turma}')"
      ],
      "metadata": {
        "id": "Nhf6o-D8mLIu"
      },
      "execution_count": null,
      "outputs": []
    },
    {
      "cell_type": "markdown",
      "source": [
        "### EX021 - Tocando um mp3\n",
        "\n"
      ],
      "metadata": {
        "id": "F8aanFPJmvwb"
      }
    },
    {
      "cell_type": "code",
      "source": [
        "pygame.init()\n",
        "pygame.mixer.music.load('ex021.mp3')\n",
        "pygame.mixer.music.play()\n",
        "pygame.event.wait()"
      ],
      "metadata": {
        "id": "I7AhAu25m5nd"
      },
      "execution_count": null,
      "outputs": []
    },
    {
      "cell_type": "markdown",
      "source": [
        "### EX022 - Analisador de textos\n",
        "\n"
      ],
      "metadata": {
        "id": "tQgvF1VnnHdb"
      }
    },
    {
      "cell_type": "code",
      "source": [
        "print('Testando o seu nome')\n",
        "nome = input('Digite seu nome completo: ').strip()\n",
        "print(f'Seu nome todo em maiúsculo é {nome.upper()}\\n'\n",
        "      f'Seu nome todo em minúsculas é {nome.lower()}\\n'\n",
        "      f'Seu nome tem {len(nome) - nome.count(\" \")} letras\\n'\n",
        "      f'Seu primeiro nome tem {len(nome.split()[0])} letras')"
      ],
      "metadata": {
        "id": "lNlbITe6nRi8"
      },
      "execution_count": null,
      "outputs": []
    },
    {
      "cell_type": "markdown",
      "source": [
        "### EX023 - Separando digitos de um número\n",
        "\n"
      ],
      "metadata": {
        "id": "RE0kbkw6nWe-"
      }
    },
    {
      "cell_type": "code",
      "source": [
        "print('Casas decimis')\n",
        "\n",
        "num = int(input('Digite um número: '))\n",
        "\n",
        "print(f'Unidade:{num // 1 % 10}'\n",
        "      f'Dezena:{num // 10 % 10}'\n",
        "      f'Centena:{num // 100 % 10}'\n",
        "      f'Milhar:{num // 1000}')"
      ],
      "metadata": {
        "id": "8SwnYFdPndnW"
      },
      "execution_count": null,
      "outputs": []
    },
    {
      "cell_type": "markdown",
      "source": [
        "### EX024 - Verificando as primeiras letras de um texto\n",
        "\n"
      ],
      "metadata": {
        "id": "LnicStnAnmft"
      }
    },
    {
      "cell_type": "code",
      "source": [
        "print('Sua cidade é santa?')\n",
        "\n",
        "cidade = str(input('Digite sua cidade: ').strip().lower())\n",
        "\n",
        "if 'santo' in cidade or 'santa' in cidade or 'são' in cidade:\n",
        "    print('Sim, sua cidade tem nome de santo')\n",
        "else:\n",
        "    print('Não, sua cidade não tem nome de santo')"
      ],
      "metadata": {
        "colab": {
          "base_uri": "https://localhost:8080/"
        },
        "id": "qTxyUqx4nw4W",
        "outputId": "c358ba69-f1a6-485e-d963-8bae0450c9e0"
      },
      "execution_count": 59,
      "outputs": [
        {
          "output_type": "stream",
          "name": "stdout",
          "text": [
            "Sua cidade é santa?\n",
            "Digite sua cidade: curitiba[\n",
            "Não, sua cidade não começa com nome santo\n"
          ]
        }
      ]
    },
    {
      "cell_type": "markdown",
      "source": [
        "### EX025 - Procurando uma string dentro de outra\n",
        "\n"
      ],
      "metadata": {
        "id": "m9REDyeenwgv"
      }
    },
    {
      "cell_type": "code",
      "source": [
        "print('Seu nome tem Silva')\n",
        "nome = input('Digite seu nome completo: ').strip().lower()\n",
        "print(f'Seu nome tem Silva?: {\"silva\" in nome}')"
      ],
      "metadata": {
        "id": "CeXH24nqobbQ"
      },
      "execution_count": null,
      "outputs": []
    },
    {
      "cell_type": "markdown",
      "source": [
        "### EX026 - Procurando a última ocorrência de uma string\n",
        "\n"
      ],
      "metadata": {
        "id": "dOBKWvN3omZ7"
      }
    },
    {
      "cell_type": "code",
      "source": [
        "print(\"Contagem de A's\")\n",
        "frase = str(input('Digite uma frase: ').strip().lower())\n",
        "\n",
        "print(f\"Essa frase tem {frase.count('a')} A's\"\n",
        "      f'O primeiro a aparece na posição {frase.find(\"a\") + 1}'\n",
        "      f'O último a aparece na posição {frase.rfind(\"a\") + 1}')"
      ],
      "metadata": {
        "id": "I1rU0ljOoqKI"
      },
      "execution_count": null,
      "outputs": []
    },
    {
      "cell_type": "markdown",
      "source": [
        "### EX027 - Primeiro e último nome de uma pessoa\n",
        "\n"
      ],
      "metadata": {
        "id": "VMKI_DdZowSp"
      }
    },
    {
      "cell_type": "code",
      "source": [
        "print('Primeiro e ultimo nome')\n",
        "x = str(input('Digite seu nome completo: ').strip().lower().title())\n",
        "\n",
        "print(f'Seu primeiro nome é {x.split()[0]}\\n'\n",
        "      f'Seu último nome é {x.split()[-1]}')"
      ],
      "metadata": {
        "id": "pWjw_97Go2Y1"
      },
      "execution_count": null,
      "outputs": []
    },
    {
      "cell_type": "markdown",
      "source": [
        "### EXex028 - Jogo da adivinhação v1.0\n",
        "\n"
      ],
      "metadata": {
        "id": "bKf1N3ino83E"
      }
    },
    {
      "cell_type": "code",
      "source": [
        "print('Vamos brincar!\\n'\n",
        "      'Tente adivinhar o número entre 0 e 5 que estou pensando')\n",
        "\n",
        "print('=-' * 20)\n",
        "print('Pensando...')\n",
        "print('=-' * 20)\n",
        "sleep(1)\n",
        "\n",
        "num_pc = randrange(0, 5)\n",
        "\n",
        "num_usuario = int(input('Em que número estou pensando?: '))\n",
        "\n",
        "if num_usuario == num_pc:\n",
        "  print(f'Você acertou! Era {x}')\n",
        "else:\n",
        "  print(f'Que pena, você errou, era {x}.\\n'\n",
        "        'Vamos denovo!')"
      ],
      "metadata": {
        "colab": {
          "base_uri": "https://localhost:8080/"
        },
        "id": "_iJ1eGztpH48",
        "outputId": "f0eae7bc-21e8-4c29-fc9f-67dbc0c4e116"
      },
      "execution_count": 60,
      "outputs": [
        {
          "output_type": "stream",
          "name": "stdout",
          "text": [
            "Vamos brincar!\n",
            "Tente adivinhar o número entre 0 e 5 que estou pensando\n",
            "=-=-=-=-=-=-=-=-=-=-=-=-=-=-=-=-=-=-=-=-\n",
            "Pensando...\n",
            "=-=-=-=-=-=-=-=-=-=-=-=-=-=-=-=-=-=-=-=-\n",
            "Em que número estou pensando?: 3\n",
            "Que pena, você errou, era 4.\n",
            "Vamos denovo!\n"
          ]
        }
      ]
    },
    {
      "cell_type": "markdown",
      "source": [
        "### 029 - Radar eletrônico\n",
        "\n"
      ],
      "metadata": {
        "id": "ND2gksTUpoCL"
      }
    },
    {
      "cell_type": "code",
      "source": [
        "print('Analize de multa'\n",
        "      'Limite de 80 Km/h')\n",
        "\n",
        "x = 0\n",
        "\n",
        "while x is not 5:\n",
        "  vel = randrange(50, 120)\n",
        "  print(f'Esse carro estava a {vel} Km/h')\n",
        "  print('Calculando...')\n",
        "  sleep(0.3)\n",
        "  x += 1  \n",
        "  if vel <= 80:\n",
        "    print('Não multado\\n')\n",
        "  else:\n",
        "    print(f'Multado em R${(vel-80)*7:.2f}\\n')"
      ],
      "metadata": {
        "colab": {
          "base_uri": "https://localhost:8080/"
        },
        "id": "e_8rvqizptL8",
        "outputId": "ea24b5a8-dd4d-461d-925e-3b7227ff4fce"
      },
      "execution_count": 67,
      "outputs": [
        {
          "output_type": "stream",
          "name": "stdout",
          "text": [
            "Analize de multaLimite de 80 Km/h\n",
            "Esse carro estava a 114 Km/h\n",
            "Calculando...\n",
            "Multado em R$238.00\n",
            "\n",
            "Esse carro estava a 67 Km/h\n",
            "Calculando...\n",
            "Não multado\n",
            "\n",
            "Esse carro estava a 58 Km/h\n",
            "Calculando...\n",
            "Não multado\n",
            "\n",
            "Esse carro estava a 73 Km/h\n",
            "Calculando...\n",
            "Não multado\n",
            "\n",
            "Esse carro estava a 91 Km/h\n",
            "Calculando...\n",
            "Multado em R$77.00\n",
            "\n"
          ]
        }
      ]
    },
    {
      "cell_type": "markdown",
      "source": [
        "### EX030 - Par ou ímpar\n",
        "\n"
      ],
      "metadata": {
        "id": "QxqQc-tuqyeA"
      }
    },
    {
      "cell_type": "code",
      "source": [
        "print('Par ou ímpar?')\n",
        "x = int(input('Digite um número: '))\n",
        "\n",
        "if x % 2 == 0:\n",
        "    print(f'O número {x} é par')\n",
        "else:\n",
        "    print(f'O número {x} é ímpar')"
      ],
      "metadata": {
        "colab": {
          "base_uri": "https://localhost:8080/"
        },
        "id": "Hr6I6nJ6q36P",
        "outputId": "c665e62b-4af9-443c-e41f-347551245ff3"
      },
      "execution_count": 68,
      "outputs": [
        {
          "output_type": "stream",
          "name": "stdout",
          "text": [
            "Par ou ímpar?\n",
            "Digite um número: 7\n",
            "O número 7 é ímpar\n"
          ]
        }
      ]
    },
    {
      "cell_type": "markdown",
      "source": [
        "### EX031 - Custo da viagem\n",
        "\n"
      ],
      "metadata": {
        "id": "VUNQfkjuq7hr"
      }
    },
    {
      "cell_type": "code",
      "source": [
        "print('Passagem de ônibus')\n",
        "distancia = float(input('Digite a distância em Km: '))\n",
        "if distancia <= 200:\n",
        "    valor = distancia * 0.5\n",
        "else:\n",
        "    valor = distancia * 0.45\n",
        "print(f'Sua passagem custará R${valor:.2f}\\n'\n",
        "      'Boa viagem')"
      ],
      "metadata": {
        "colab": {
          "base_uri": "https://localhost:8080/"
        },
        "id": "OvcdP-nPrBj8",
        "outputId": "9943f7c0-6443-4400-9060-b8ff9b685c1f"
      },
      "execution_count": 69,
      "outputs": [
        {
          "output_type": "stream",
          "name": "stdout",
          "text": [
            "Passagem de ônibus\n",
            "Digite a distância em Km: 780\n",
            "Sua passagem custará R$351.00\n",
            "Boa viagem\n"
          ]
        }
      ]
    },
    {
      "cell_type": "markdown",
      "source": [
        "### EX032 - Ano bissexto\n",
        "\n"
      ],
      "metadata": {
        "id": "jyx-00WTrSyI"
      }
    },
    {
      "cell_type": "code",
      "source": [
        "print('Ano Bissexto')\n",
        "ano = int(input('Digite um ano (Digite 0 para o ano atual): '))\n",
        "\n",
        "if ano == 0:\n",
        "    ano = date.today().year\n",
        "\n",
        "if ano % 4 == 0 and ano % 100 != 0 or ano % 400 == 0:\n",
        "    print(f'Sim, o ano de {ano} é bissexto')\n",
        "else:\n",
        "    print(f'Não, o ano de {ano} não é bissexto!\\n'\n",
        "          'Bom ano para você')"
      ],
      "metadata": {
        "colab": {
          "base_uri": "https://localhost:8080/"
        },
        "id": "gNuVkskSrV4_",
        "outputId": "8ebb0f3e-60a3-4c33-bb24-184d1b4aab93"
      },
      "execution_count": 72,
      "outputs": [
        {
          "output_type": "stream",
          "name": "stdout",
          "text": [
            "Ano Bissexto\n",
            "Digite um ano (Digite 0 para o ano atual): 0\n",
            "Não, o ano de 2022 não é bissexto!\n",
            "Bom ano para você\n"
          ]
        }
      ]
    },
    {
      "cell_type": "markdown",
      "source": [
        "### EX033 - Maior e menor valores\n",
        "\n"
      ],
      "metadata": {
        "id": "BySimGi5r0W4"
      }
    },
    {
      "cell_type": "code",
      "source": [
        "n1 = float(input('Digite o primeiro número: ')) # 4\n",
        "n2 = float(input('Digite o segundo número: ')) # 2\n",
        "n3 = float(input('Digire o terceiro número: ')) # 8\n",
        "\n",
        "menor = int(n1)\n",
        "# menor = 4\n",
        "if n2 < menor < n3:\n",
        "    menor = n2\n",
        "    # 2 < 4 < 8, menor = 2\n",
        "elif n3 < menor:\n",
        "    menor = n3\n",
        "    # 8 < 2, menor = 2\n",
        "maior = int(n1)\n",
        "# maior = 4\n",
        "if n2 > maior:\n",
        "    maior = n2\n",
        "    # 2 > 4, maior = 4\n",
        "elif n3 > maior:\n",
        "    maior = n3\n",
        "    # 8 > 4, maior = 8\n",
        "print(f'O menor é {menor}\\n'\n",
        "      f'O maior é {maior}')"
      ],
      "metadata": {
        "colab": {
          "base_uri": "https://localhost:8080/"
        },
        "id": "kyQh0XSbr4an",
        "outputId": "7ef2796c-adb2-4aa7-be5b-cf11af836e5b"
      },
      "execution_count": 73,
      "outputs": [
        {
          "output_type": "stream",
          "name": "stdout",
          "text": [
            "Digite o primeiro número: 4\n",
            "Digite o segundo número: 2\n",
            "Digire o terceiro número: 8\n",
            "O menor é 2.0\n",
            "O maior é 8.0\n"
          ]
        }
      ]
    },
    {
      "cell_type": "markdown",
      "source": [
        "### EX034 - Aumentos múltiplos\n",
        "\n"
      ],
      "metadata": {
        "id": "gwHgngg1tig0"
      }
    },
    {
      "cell_type": "code",
      "source": [
        "print('Aumento!!')\n",
        "salario = float(input('Qual o seu salário?: '))\n",
        "if salario >= 1250:\n",
        "    print(f'Seu novo salário é: {salario * 1.1:.2f}')\n",
        "else:\n",
        "    print(f'Seu novo salário é: {salario * 1.15:.2f}')"
      ],
      "metadata": {
        "id": "A13AvWWGtsn2"
      },
      "execution_count": null,
      "outputs": []
    },
    {
      "cell_type": "markdown",
      "source": [
        "### EX035 - Analisando triângulos\n",
        "\n"
      ],
      "metadata": {
        "id": "AsfLokxIt2Ag"
      }
    },
    {
      "cell_type": "code",
      "source": [
        "print('Fazendo um triangulo')\n",
        "r1 = float(input('Digite a primeira reta: '))\n",
        "r2 = float(input('Digite a segundo reta: '))\n",
        "r3 = float(input('Digite a terceira reta: '))\n",
        "\n",
        "if r1 < r2:\n",
        "    if r1 < r3:\n",
        "        if r2 < r3:\n",
        "            if (r1 + r2) > r3:\n",
        "                print('É possível fazer um triângulo')\n",
        "            else:\n",
        "                print('É impossível fazer um triângulo')\n",
        "    else:\n",
        "        if (r1 + r3) > r2:\n",
        "            print('É possível fazer um triângulo')\n",
        "        else:\n",
        "            print('É impossível fazer um triângulo')\n",
        "else:\n",
        "    if r1 < r3:\n",
        "        if (r1 + r2) > r3:\n",
        "            print('É possível fazer um triângulo')\n",
        "        else:\n",
        "            print('É impossível fazer um triângulo')\n",
        "    else:\n",
        "        if (r2 + r3) > r1:\n",
        "            print('É possível fazer um triângulo')\n",
        "        else:\n",
        "            print('É impossível fazer um triângulo')"
      ],
      "metadata": {
        "id": "bT-sNab6t6ua"
      },
      "execution_count": null,
      "outputs": []
    },
    {
      "cell_type": "code",
      "source": [
        "print('Fazendo um triangulo')\n",
        "r1 = float(input('Digite a primeira reta: '))\n",
        "r2 = float(input('Digite a segundo reta: '))\n",
        "r3 = float(input('Digite a terceira reta: '))\n",
        "\n",
        "if r1 < r2 < r3:\n",
        "    if (r1 + r2) > r3:\n",
        "        print('É possível fazer um triângulo')\n",
        "    else:\n",
        "        print('É impossível fazer um triângulo')\n",
        "elif r2 < r3 < r1:\n",
        "    if (r2 + r3) > r1:\n",
        "        print('É possível fazer um triângulo')\n",
        "    else:\n",
        "        print('É impossível fazer um triângulo')\n",
        "elif r3 < r1 < r2:\n",
        "    if (r3 + r1) > r2:\n",
        "        print('É possível fazer um triângulo')\n",
        "    else:\n",
        "        print('É impossível fazer um triângulo')"
      ],
      "metadata": {
        "id": "P74e2O2ruCyZ"
      },
      "execution_count": null,
      "outputs": []
    }
  ]
}